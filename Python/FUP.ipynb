{
 "cells": [
  {
   "cell_type": "markdown",
   "metadata": {},
   "source": [
    "# FUP: Frequenctly Used Patterns\n",
    "\n",
    "This file is a collection of frequently used patterns in competitive programming.\n",
    "\n",
    "It is intended to be a quick reference for those who are looking for a specific code block.\n",
    "\n",
    "The patterns are divided into categories and each pattern is explained with outputs and examples."
   ]
  },
  {
   "cell_type": "code",
   "execution_count": 11,
   "metadata": {},
   "outputs": [
    {
     "name": "stdout",
     "output_type": "stream",
     "text": [
      "i: 0\n",
      "i: 15\n",
      "i: 30\n",
      "i: 45\n",
      "query: SELECT * FROM db.table WHERE start_time >= current_date - 60 AND start_time < current_date - 45\n",
      "query: SELECT * FROM db.table WHERE start_time >= current_date - 45 AND start_time < current_date - 30\n",
      "query: SELECT * FROM db.table WHERE start_time >= current_date - 30 AND start_time < current_date - 15\n",
      "query: SELECT * FROM db.table WHERE start_time >= current_date - 15 AND start_time < current_date - 0\n"
     ]
    }
   ],
   "source": [
    "'''\n",
    "SQL statement generation in batches\n",
    "This example shows how to divide 60 days into 4 batches of 15 days each.\n",
    "'''\n",
    "number_of_days = 60\n",
    "number_of_days_per_batch = 15\n",
    "query_list = list()\n",
    "\n",
    "for i in range(0, number_of_days, number_of_days_per_batch):\n",
    "    print(f\"i: {i}\")\n",
    "    # -60 to -45, -45 to -30, -30 to -15, -15 to 0\n",
    "    start_date = f\"current_date - {number_of_days - i}\"\n",
    "    end_date = f\"current_date - {number_of_days - i - number_of_days_per_batch}\"\n",
    "    \n",
    "    # 0 to 15, 15 to 30, 30 to 45, 45 to 60\n",
    "    # start_date = f\"current_date - {i + number_of_days_per_batch}\"\n",
    "    # end_date = f\"current_date - {i}\"\n",
    "    \n",
    "    query = f\"SELECT * FROM db.table WHERE start_time >= {start_date} AND start_time < {end_date}\"\n",
    "    query_list.append(query)\n",
    "\n",
    "for query in query_list:\n",
    "  print(f\"query: {query}\")\n",
    "\n"
   ]
  },
  {
   "cell_type": "markdown",
   "metadata": {},
   "source": [
    "# Programming Patterns"
   ]
  },
  {
   "cell_type": "code",
   "execution_count": 12,
   "metadata": {},
   "outputs": [],
   "source": [
    "# Pattern 1: Singleton Pattern\n",
    "class Singleton:\n",
    "    _instance = None\n",
    "\n",
    "    def __new__(cls):\n",
    "        if not cls._instance:\n",
    "            cls._instance = super().__new__(cls)\n",
    "        return cls._instance\n",
    "\n",
    "# Pattern 2: Factory Pattern\n",
    "class Vehicle:\n",
    "    def __init__(self, name):\n",
    "        self.name = name\n",
    "\n",
    "    def drive(self):\n",
    "        pass\n",
    "\n",
    "class Car(Vehicle):\n",
    "    def drive(self):\n",
    "        print(f\"{self.name} is driving on the road.\")\n",
    "\n",
    "class Bike(Vehicle):\n",
    "    def drive(self):\n",
    "        print(f\"{self.name} is riding on the street.\")\n",
    "\n",
    "class VehicleFactory:\n",
    "    @staticmethod\n",
    "    def create_vehicle(vehicle_type, name):\n",
    "        if vehicle_type == \"car\":\n",
    "            return Car(name)\n",
    "        elif vehicle_type == \"bike\":\n",
    "            return Bike(name)\n",
    "        else:\n",
    "            raise ValueError(\"Invalid vehicle type.\")\n",
    "\n",
    "# Pattern 3: Observer Pattern\n",
    "class Subject:\n",
    "    def __init__(self):\n",
    "        self._observers = []\n",
    "\n",
    "    def attach(self, observer):\n",
    "        self._observers.append(observer)\n",
    "\n",
    "    def detach(self, observer):\n",
    "        self._observers.remove(observer)\n",
    "\n",
    "    def notify(self, message):\n",
    "        for observer in self._observers:\n",
    "            observer.update(message)\n",
    "\n",
    "class Observer:\n",
    "    def update(self, message):\n",
    "        pass\n",
    "\n",
    "class EmailObserver(Observer):\n",
    "    def update(self, message):\n",
    "        print(f\"Sending email notification: {message}\")\n",
    "\n",
    "class SMSObserver(Observer):\n",
    "    def update(self, message):\n",
    "        print(f\"Sending SMS notification: {message}\")\n"
   ]
  }
 ],
 "metadata": {
  "kernelspec": {
   "display_name": "gym-super-mario-bros-f6vvoWJM",
   "language": "python",
   "name": "python3"
  },
  "language_info": {
   "codemirror_mode": {
    "name": "ipython",
    "version": 3
   },
   "file_extension": ".py",
   "mimetype": "text/x-python",
   "name": "python",
   "nbconvert_exporter": "python",
   "pygments_lexer": "ipython3",
   "version": "3.12.3"
  }
 },
 "nbformat": 4,
 "nbformat_minor": 2
}
