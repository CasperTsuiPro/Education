{
 "cells": [
  {
   "cell_type": "markdown",
   "metadata": {},
   "source": [
    "This exercise is from [PYnative](https://pynative.com/python-basic-exercise-for-beginners/)"
   ]
  },
  {
   "cell_type": "markdown",
   "metadata": {},
   "source": [
    "Python Basic Exercise for Beginners"
   ]
  },
  {
   "cell_type": "markdown",
   "metadata": {},
   "source": [
    "Exercise 2: Print the Sum of a Current Number and a Previous number"
   ]
  },
  {
   "cell_type": "code",
   "execution_count": 1,
   "metadata": {},
   "outputs": [
    {
     "name": "stdout",
     "output_type": "stream",
     "text": [
      "Printing current and previous number sum in a range(10)\n",
      "Current number: 0, Previous number: 0, Sum: 0\n",
      "Current number: 1, Previous number: 0, Sum: 1\n",
      "Current number: 2, Previous number: 1, Sum: 3\n",
      "Current number: 3, Previous number: 2, Sum: 5\n",
      "Current number: 4, Previous number: 3, Sum: 7\n",
      "Current number: 5, Previous number: 4, Sum: 9\n",
      "Current number: 6, Previous number: 5, Sum: 11\n",
      "Current number: 7, Previous number: 6, Sum: 13\n",
      "Current number: 8, Previous number: 7, Sum: 15\n",
      "Current number: 9, Previous number: 8, Sum: 17\n"
     ]
    }
   ],
   "source": [
    "#!/usr/bin/env python3\n",
    "print(f\"Printing current and previous number sum in a range(10)\")\n",
    "h = 0\n",
    "\n",
    "for i in range(10):\n",
    "  # sum += i\n",
    "  print(f\"Current number: {i}, Previous number: {h}, Sum: {i + h}\")\n",
    "  h = i"
   ]
  },
  {
   "cell_type": "markdown",
   "metadata": {},
   "source": [
    "Exercise 3: Print characters present at an even index number"
   ]
  },
  {
   "cell_type": "code",
   "execution_count": 3,
   "metadata": {},
   "outputs": [
    {
     "name": "stdout",
     "output_type": "stream",
     "text": [
      "Orginal String is PYnative\n",
      "Printing only even index chars\n",
      "P\n",
      "n\n",
      "t\n",
      "v\n"
     ]
    }
   ],
   "source": [
    "str = \"PYnative\"\n",
    "\n",
    "print(f\"Orginal String is {str}\")\n",
    "print(f\"Printing only even index chars\")\n",
    "\n",
    "# Cursor version\n",
    "# for i in range(0, len(str), 2):\n",
    "#   print(str[i])\n",
    "  \n",
    "for i in range(len(str)):\n",
    "  if i % 2 == 0:\n",
    "    print(str[i])"
   ]
  },
  {
   "cell_type": "markdown",
   "metadata": {},
   "source": [
    "Exercise 4: Remove the first n characters from a string"
   ]
  },
  {
   "cell_type": "code",
   "execution_count": 10,
   "metadata": {},
   "outputs": [
    {
     "name": "stdout",
     "output_type": "stream",
     "text": [
      "Removing characters from a string\n",
      "tive\n",
      "native\n"
     ]
    }
   ],
   "source": [
    "def remove_chars(word, n):\n",
    "  return word[n:]\n",
    "\n",
    "print(\"Removing characters from a string\")\n",
    "print(remove_chars(\"pynative\", 4)) \n",
    "# output 'tive' first four characters are removed\n",
    "\n",
    "print(remove_chars(\"pynative\", 2)) \n",
    "# output 'native'"
   ]
  },
  {
   "cell_type": "markdown",
   "metadata": {},
   "source": [
    "Exercise 5: Check if the first and last numbers of a list are the same"
   ]
  },
  {
   "cell_type": "code",
   "execution_count": 13,
   "metadata": {},
   "outputs": [
    {
     "name": "stdout",
     "output_type": "stream",
     "text": [
      "True\n",
      "False\n"
     ]
    }
   ],
   "source": [
    "numbers_x = [10, 20, 30, 40, 10]\n",
    "print(numbers_x[0] == numbers_x[-1])\n",
    "\n",
    "numbers_y = [75, 65, 35, 75, 30]\n",
    "print(numbers_y[0] == numbers_y[-1])\n",
    "# Output False"
   ]
  },
  {
   "cell_type": "markdown",
   "metadata": {},
   "source": [
    "Exercise 7: Find the number of occurrences of a substring in a string"
   ]
  },
  {
   "cell_type": "code",
   "execution_count": 7,
   "metadata": {},
   "outputs": [
    {
     "name": "stdout",
     "output_type": "stream",
     "text": [
      "Emma appeared 2 times\n"
     ]
    }
   ],
   "source": [
    "str_x = \"Emma is good developer. Emma is a writer\"\n",
    "print(f\"Emma appeared {str_x.count('Emma')} times\")\n",
    "\n",
    "# from collections import Counter\n",
    "# str_x = \"Emma is good developer. Emma is a writer\"\n",
    "\n",
    "# count = Counter(str_x.split())\n",
    "# print(f\"Emma appeared {count['Emma']} times\")"
   ]
  },
  {
   "cell_type": "markdown",
   "metadata": {},
   "source": [
    "Exercise 8: Print the following pattern"
   ]
  },
  {
   "cell_type": "code",
   "execution_count": 8,
   "metadata": {},
   "outputs": [
    {
     "name": "stdout",
     "output_type": "stream",
     "text": [
      "1\n",
      "22\n",
      "333\n",
      "4444\n",
      "55555\n"
     ]
    }
   ],
   "source": [
    "for i in range(1, 6):\n",
    "  print(str(i) * i)"
   ]
  },
  {
   "cell_type": "markdown",
   "metadata": {},
   "source": [
    "Exercise 9: Check Palindrome Number"
   ]
  },
  {
   "cell_type": "code",
   "execution_count": 29,
   "metadata": {},
   "outputs": [
    {
     "name": "stdout",
     "output_type": "stream",
     "text": [
      "original number 121321\n",
      "No. given number is not palindrome number\n"
     ]
    }
   ],
   "source": [
    "ori_num = 121321\n",
    "ori_str = str(ori_num)\n",
    "isPalindrome = True\n",
    "\n",
    "print(f\"original number {ori_str}\")\n",
    "for i in range(len(ori_str)):\n",
    "  if i >= len(ori_str) // 2: break\n",
    "  # print(f\"{ori_str[i]}, {ori_str[len(ori_str)-i-1]}\")\n",
    "  if ori_str[i] != ori_str[len(ori_str)-i-1]: isPalindrome = False\n",
    "\n",
    "print(\"Yes. given number is palindrome number\") if isPalindrome else print(\"No. given number is not palindrome number\")"
   ]
  },
  {
   "cell_type": "markdown",
   "metadata": {},
   "source": [
    "Exercise 10: Merge two lists using the following condition"
   ]
  },
  {
   "cell_type": "code",
   "execution_count": 30,
   "metadata": {},
   "outputs": [
    {
     "name": "stdout",
     "output_type": "stream",
     "text": [
      "result list: [25, 35, 40, 60, 90]\n"
     ]
    }
   ],
   "source": [
    "list1 = [10, 20, 25, 30, 35]\n",
    "list2 = [40, 45, 60, 75, 90]\n",
    "\n",
    "result_list = [ l for l in list1 if l % 2 != 0 ]\n",
    "result_list += [ l for l in list2 if l % 2 == 0 ]\n",
    "\n",
    "print(f\"result list: {result_list}\")"
   ]
  },
  {
   "cell_type": "markdown",
   "metadata": {},
   "source": [
    "Python Functions Quiz"
   ]
  },
  {
   "cell_type": "markdown",
   "metadata": {},
   "source": [
    "2. What is the output of the following display_person() function call?\n",
    "A. TypeError\n",
    "B. Emma\n",
    "   25\n",
    "C. name\n",
    "   age"
   ]
  },
  {
   "cell_type": "code",
   "execution_count": 32,
   "metadata": {},
   "outputs": [
    {
     "ename": "TypeError",
     "evalue": "display_person() got an unexpected keyword argument 'name'",
     "output_type": "error",
     "traceback": [
      "\u001b[0;31m---------------------------------------------------------------------------\u001b[0m",
      "\u001b[0;31mTypeError\u001b[0m                                 Traceback (most recent call last)",
      "Cell \u001b[0;32mIn[32], line 5\u001b[0m\n\u001b[1;32m      2\u001b[0m     \u001b[38;5;28;01mfor\u001b[39;00m i \u001b[38;5;129;01min\u001b[39;00m args:\n\u001b[1;32m      3\u001b[0m         \u001b[38;5;28mprint\u001b[39m(i)\n\u001b[0;32m----> 5\u001b[0m \u001b[43mdisplay_person\u001b[49m\u001b[43m(\u001b[49m\u001b[43mname\u001b[49m\u001b[38;5;241;43m=\u001b[39;49m\u001b[38;5;124;43m\"\u001b[39;49m\u001b[38;5;124;43mEmma\u001b[39;49m\u001b[38;5;124;43m\"\u001b[39;49m\u001b[43m,\u001b[49m\u001b[43m \u001b[49m\u001b[43mage\u001b[49m\u001b[38;5;241;43m=\u001b[39;49m\u001b[38;5;124;43m\"\u001b[39;49m\u001b[38;5;124;43m25\u001b[39;49m\u001b[38;5;124;43m\"\u001b[39;49m\u001b[43m)\u001b[49m\n",
      "\u001b[0;31mTypeError\u001b[0m: display_person() got an unexpected keyword argument 'name'"
     ]
    }
   ],
   "source": [
    "def display_person(*args):\n",
    "    for i in args:\n",
    "        print(i)\n",
    "\n",
    "display_person(name=\"Emma\", age=\"25\")"
   ]
  },
  {
   "cell_type": "markdown",
   "metadata": {},
   "source": [
    "3. What is the output of the following display() function call?\n",
    "A. TypeError\n",
    "B. Kelly\n",
    "   9000\n",
    "C. (emp, salary)\n",
    "   ('salary', 9000)\n",
    "D. emp\n",
    "   salary"
   ]
  },
  {
   "cell_type": "code",
   "execution_count": 31,
   "metadata": {},
   "outputs": [
    {
     "name": "stdout",
     "output_type": "stream",
     "text": [
      "emp\n",
      "salary\n"
     ]
    }
   ],
   "source": [
    "def display(**kwargs):\n",
    "    for i in kwargs:\n",
    "        print(i)\n",
    "\n",
    "display(emp=\"Kelly\", salary=9000)"
   ]
  },
  {
   "cell_type": "markdown",
   "metadata": {},
   "source": [
    "10. What is the output of the following function call\n",
    "A. 5\n",
    "B. 15\n",
    "C. (15, 5)\n",
    "D. Syntax Error"
   ]
  },
  {
   "cell_type": "code",
   "execution_count": 39,
   "metadata": {},
   "outputs": [
    {
     "name": "stdout",
     "output_type": "stream",
     "text": [
      "15\n"
     ]
    }
   ],
   "source": [
    "def outer_fun(a, b):\n",
    "    def inner_fun(c, d):\n",
    "        return c + d\n",
    "\n",
    "    return inner_fun(a, b)\n",
    "    return a\n",
    "\n",
    "result = outer_fun(5, 10)\n",
    "print(result)"
   ]
  },
  {
   "cell_type": "code",
   "execution_count": null,
   "metadata": {},
   "outputs": [],
   "source": [
    "12. Given the following function fun1() Please select all the correct function calls\n",
    "\n",
    "def fun1(name, age):\n",
    "    print(name, age)\n",
    "    \n",
    "A. fun1(\"Emma\", age=23)\n",
    "B. fun1(age =23, name=\"Emma\")\n",
    "C. fun1(name=\"Emma\", 23)\n",
    "D. fun1(age =23, \"Emma\")"
   ]
  },
  {
   "cell_type": "markdown",
   "metadata": {},
   "source": [
    "Explanation:\n",
    "\n",
    "We can pass either use either positional arguments or keyword arguments, not both at the same time. If you try to do you will get syntax Error The positional argument follows keyword argument\n",
    "\n",
    "Possible correct function calls\n",
    "\n",
    "Positional arguments: fun1('Emma', 23)\n",
    "keyword arguments: fun1(name='Emma', age=23)\n",
    "Or, The positional argument must not follow the keyword argument\n",
    "fun1(\"Emma\", age=23)"
   ]
  }
 ],
 "metadata": {
  "kernelspec": {
   "display_name": "Python 3",
   "language": "python",
   "name": "python3"
  },
  "language_info": {
   "codemirror_mode": {
    "name": "ipython",
    "version": 3
   },
   "file_extension": ".py",
   "mimetype": "text/x-python",
   "name": "python",
   "nbconvert_exporter": "python",
   "pygments_lexer": "ipython3",
   "version": "3.9.6"
  }
 },
 "nbformat": 4,
 "nbformat_minor": 2
}
