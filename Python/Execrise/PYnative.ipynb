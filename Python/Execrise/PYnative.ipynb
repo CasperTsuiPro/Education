{
 "cells": [
  {
   "cell_type": "markdown",
   "metadata": {},
   "source": [
    "This exercise is from [PYnative](https://pynative.com/python-basic-exercise-for-beginners/)"
   ]
  },
  {
   "cell_type": "markdown",
   "metadata": {},
   "source": [
    "Python Basic Exercise for Beginners"
   ]
  },
  {
   "cell_type": "markdown",
   "metadata": {},
   "source": [
    "Exercise 2: Print the Sum of a Current Number and a Previous number"
   ]
  },
  {
   "cell_type": "code",
   "execution_count": 1,
   "metadata": {},
   "outputs": [
    {
     "name": "stdout",
     "output_type": "stream",
     "text": [
      "Printing current and previous number sum in a range(10)\n",
      "Current number: 0, Previous number: 0, Sum: 0\n",
      "Current number: 1, Previous number: 0, Sum: 1\n",
      "Current number: 2, Previous number: 1, Sum: 3\n",
      "Current number: 3, Previous number: 2, Sum: 5\n",
      "Current number: 4, Previous number: 3, Sum: 7\n",
      "Current number: 5, Previous number: 4, Sum: 9\n",
      "Current number: 6, Previous number: 5, Sum: 11\n",
      "Current number: 7, Previous number: 6, Sum: 13\n",
      "Current number: 8, Previous number: 7, Sum: 15\n",
      "Current number: 9, Previous number: 8, Sum: 17\n"
     ]
    }
   ],
   "source": [
    "#!/usr/bin/env python3\n",
    "print(f\"Printing current and previous number sum in a range(10)\")\n",
    "h = 0\n",
    "\n",
    "for i in range(10):\n",
    "  # sum += i\n",
    "  print(f\"Current number: {i}, Previous number: {h}, Sum: {i + h}\")\n",
    "  h = i"
   ]
  },
  {
   "cell_type": "markdown",
   "metadata": {},
   "source": [
    "Exercise 3: Print characters present at an even index number"
   ]
  },
  {
   "cell_type": "code",
   "execution_count": 3,
   "metadata": {},
   "outputs": [
    {
     "name": "stdout",
     "output_type": "stream",
     "text": [
      "Orginal String is PYnative\n",
      "Printing only even index chars\n",
      "P\n",
      "n\n",
      "t\n",
      "v\n"
     ]
    }
   ],
   "source": [
    "str = \"PYnative\"\n",
    "\n",
    "print(f\"Orginal String is {str}\")\n",
    "print(f\"Printing only even index chars\")\n",
    "\n",
    "# Cursor version\n",
    "# for i in range(0, len(str), 2):\n",
    "#   print(str[i])\n",
    "  \n",
    "for i in range(len(str)):\n",
    "  if i % 2 == 0:\n",
    "    print(str[i])"
   ]
  },
  {
   "cell_type": "markdown",
   "metadata": {},
   "source": [
    "Exercise 4: Remove the first n characters from a string"
   ]
  },
  {
   "cell_type": "code",
   "execution_count": 10,
   "metadata": {},
   "outputs": [
    {
     "name": "stdout",
     "output_type": "stream",
     "text": [
      "Removing characters from a string\n",
      "tive\n",
      "native\n"
     ]
    }
   ],
   "source": [
    "def remove_chars(word, n):\n",
    "  return word[n:]\n",
    "\n",
    "print(\"Removing characters from a string\")\n",
    "print(remove_chars(\"pynative\", 4)) \n",
    "# output 'tive' first four characters are removed\n",
    "\n",
    "print(remove_chars(\"pynative\", 2)) \n",
    "# output 'native'"
   ]
  },
  {
   "cell_type": "markdown",
   "metadata": {},
   "source": [
    "Exercise 5: Check if the first and last numbers of a list are the same"
   ]
  },
  {
   "cell_type": "code",
   "execution_count": 13,
   "metadata": {},
   "outputs": [
    {
     "name": "stdout",
     "output_type": "stream",
     "text": [
      "True\n",
      "False\n"
     ]
    }
   ],
   "source": [
    "numbers_x = [10, 20, 30, 40, 10]\n",
    "print(numbers_x[0] == numbers_x[-1])\n",
    "\n",
    "numbers_y = [75, 65, 35, 75, 30]\n",
    "print(numbers_y[0] == numbers_y[-1])\n",
    "# Output False"
   ]
  },
  {
   "cell_type": "markdown",
   "metadata": {},
   "source": [
    "Exercise 7: Find the number of occurrences of a substring in a string"
   ]
  },
  {
   "cell_type": "code",
   "execution_count": 7,
   "metadata": {},
   "outputs": [
    {
     "name": "stdout",
     "output_type": "stream",
     "text": [
      "Emma appeared 2 times\n"
     ]
    }
   ],
   "source": [
    "str_x = \"Emma is good developer. Emma is a writer\"\n",
    "print(f\"Emma appeared {str_x.count('Emma')} times\")\n",
    "\n",
    "# from collections import Counter\n",
    "# str_x = \"Emma is good developer. Emma is a writer\"\n",
    "\n",
    "# count = Counter(str_x.split())\n",
    "# print(f\"Emma appeared {count['Emma']} times\")"
   ]
  },
  {
   "cell_type": "markdown",
   "metadata": {},
   "source": [
    "Exercise 8: Print the following pattern"
   ]
  },
  {
   "cell_type": "code",
   "execution_count": 8,
   "metadata": {},
   "outputs": [
    {
     "name": "stdout",
     "output_type": "stream",
     "text": [
      "1\n",
      "22\n",
      "333\n",
      "4444\n",
      "55555\n"
     ]
    }
   ],
   "source": [
    "for i in range(1, 6):\n",
    "  print(str(i) * i)"
   ]
  },
  {
   "cell_type": "markdown",
   "metadata": {},
   "source": [
    "Exercise 9: Check Palindrome Number"
   ]
  },
  {
   "cell_type": "code",
   "execution_count": null,
   "metadata": {},
   "outputs": [],
   "source": []
  }
 ],
 "metadata": {
  "kernelspec": {
   "display_name": "Python 3",
   "language": "python",
   "name": "python3"
  },
  "language_info": {
   "codemirror_mode": {
    "name": "ipython",
    "version": 3
   },
   "file_extension": ".py",
   "mimetype": "text/x-python",
   "name": "python",
   "nbconvert_exporter": "python",
   "pygments_lexer": "ipython3",
   "version": "3.9.6"
  }
 },
 "nbformat": 4,
 "nbformat_minor": 2
}
