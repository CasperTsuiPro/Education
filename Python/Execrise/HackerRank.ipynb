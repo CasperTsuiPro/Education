{
 "cells": [
  {
   "cell_type": "code",
   "execution_count": null,
   "metadata": {
    "vscode": {
     "languageId": "shellscript"
    }
   },
   "outputs": [],
   "source": [
    "# Python Environment Setup\n",
    "import os\n",
    "os.system('pip install ipykernel -U')"
   ]
  },
  {
   "cell_type": "code",
   "execution_count": 8,
   "metadata": {},
   "outputs": [
    {
     "name": "stdout",
     "output_type": "stream",
     "text": [
      "a = 1;\n",
      "b = input();\n",
      "\n",
      "if a + b > 0 and a - b < 0:\n",
      "    start()\n",
      "elif a*b > 10 or a/b < 1:\n",
      "    stop()\n",
      "print set(list(a)) | set(list(b))\n",
      "#Note do not change &&& or ||| or & or |\n",
      "#Only change those '&&' which have space on both sides.\n",
      "#Only change those '|| which have space on both sides.\n"
     ]
    }
   ],
   "source": [
    "import re\n",
    "\n",
    "# N = int(input())\n",
    "N = 11\n",
    "\n",
    "# line_list = [ str(input()) for n in range(N) ]\n",
    "# print(f\"line_list = {line_list}\")\n",
    "line_list = ['a = 1;', 'b = input();', '', 'if a + b > 0 && a - b < 0:', '    start()', 'elif a*b > 10 || a/b < 1:', '    stop()', 'print set(list(a)) | set(list(b))', '#Note do not change &&& or ||| or & or |', \"#Only change those '&&' which have space on both sides.\", \"#Only change those '|| which have space on both sides.\"]\n",
    "\n",
    "for line in line_list:\n",
    "    line = re.sub(r\"(?<= )\\&\\&(?= )\", \"and\", line)\n",
    "    line = re.sub(r\"(?<= )\\|\\|(?= )\", \"or\", line)\n",
    "    print(line)\n"
   ]
  }
 ],
 "metadata": {
  "kernelspec": {
   "display_name": ".venv",
   "language": "python",
   "name": "python3"
  },
  "language_info": {
   "codemirror_mode": {
    "name": "ipython",
    "version": 3
   },
   "file_extension": ".py",
   "mimetype": "text/x-python",
   "name": "python",
   "nbconvert_exporter": "python",
   "pygments_lexer": "ipython3",
   "version": "3.13.3"
  }
 },
 "nbformat": 4,
 "nbformat_minor": 2
}
